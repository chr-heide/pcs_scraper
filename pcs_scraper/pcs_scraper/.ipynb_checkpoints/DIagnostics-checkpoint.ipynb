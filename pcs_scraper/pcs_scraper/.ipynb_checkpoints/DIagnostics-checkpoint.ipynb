{
 "cells": [
  {
   "cell_type": "markdown",
   "id": "d4869cd9",
   "metadata": {},
   "source": [
    "# Diagnostics\n",
    "\n",
    "If the `PcsScraper`-class returns an error, chances are that the error is due to a change on the procyclingstats.com website. As the class does not specify where the error occured, I have created this diagnostics-notebook for the purpose of diagnosing errors in selecting elements from the html-code.\n",
    "\n",
    "The notebook is structured with seperate code-cells for all the selection-actions that is performed by `PcsScraper`. Thus, the idea is that the notebook simply can be run, and if the output from any cell looks \"wrong\" or if any cell returns an error, chances are high that it is this specific action that breaks the class. The faulty actions can then be modified and changed in the class.\n",
    "\n",
    "Below the actions has been split into results and startlists, as these depend on two different `PcsScraper`-methods."
   ]
  },
  {
   "cell_type": "code",
   "execution_count": null,
   "id": "fda23d80",
   "metadata": {},
   "outputs": [],
   "source": [
    "import requests\n",
    "from bs4 import BeautifulSoup\n",
    "from tqdm import tqdm"
   ]
  },
  {
   "cell_type": "markdown",
   "id": "c5cefa67",
   "metadata": {},
   "source": [
    "## Results\n",
    "\n",
    "The cells below are the actions used to select the different variables in the `get_results()`-method. The cell directly below simply performs the necessary setup for the individual cells to run. This is done more elegantly under the hood of `PcsScraper`."
   ]
  },
  {
   "cell_type": "code",
   "execution_count": null,
   "id": "8d03a4fa",
   "metadata": {},
   "outputs": [],
   "source": [
    "url = 'https://www.procyclingstats.com/race/volta-ao-algarve/2024/stage-3'\n",
    "response = requests.get(url)\n",
    "soup = BeautifulSoup(response.text, \"lxml\")\n",
    "table = soup.select('tbody')[0]"
   ]
  },
  {
   "cell_type": "code",
   "execution_count": null,
   "id": "290fd8c1",
   "metadata": {},
   "outputs": [],
   "source": [
    "# Placement\n",
    "[num + 1 for num in range(len(table.select('tr')))]"
   ]
  },
  {
   "cell_type": "code",
   "execution_count": null,
   "id": "4515880f",
   "metadata": {},
   "outputs": [],
   "source": [
    "# Team\n",
    "[t.text for t in table.find_all('td', class_='cu600') if \"bonis\" not in str(t)]"
   ]
  },
  {
   "cell_type": "code",
   "execution_count": null,
   "id": "c846d6fd",
   "metadata": {},
   "outputs": [],
   "source": [
    "# id\n",
    "[i['data-id'] for i in table.select('input')]"
   ]
  },
  {
   "cell_type": "code",
   "execution_count": null,
   "id": "3b4672d6",
   "metadata": {},
   "outputs": [],
   "source": [
    "# rider\n",
    "[i['data-seo'] for i in table.select('input')]"
   ]
  },
  {
   "cell_type": "code",
   "execution_count": null,
   "id": "e47da282",
   "metadata": {},
   "outputs": [],
   "source": [
    "# time\n",
    "[i.contents[0].text for i in table.find_all('td', {'class': 'time ar'})]"
   ]
  },
  {
   "cell_type": "code",
   "execution_count": null,
   "id": "ad4ea186",
   "metadata": {},
   "outputs": [],
   "source": [
    "# parcours\n",
    "soup.select('ul.infolist li')[7].select('span')[0]['class'][2]"
   ]
  },
  {
   "cell_type": "code",
   "execution_count": null,
   "id": "4322f898",
   "metadata": {},
   "outputs": [],
   "source": [
    "# date\n",
    "soup.select('ul.infolist li')[0].select('div')[1].text"
   ]
  },
  {
   "cell_type": "code",
   "execution_count": null,
   "id": "f3664c3c",
   "metadata": {},
   "outputs": [],
   "source": [
    "# distance\n",
    "float(soup.select('ul.infolist li')[4].select('div')[1].text[:-3])"
   ]
  },
  {
   "cell_type": "code",
   "execution_count": null,
   "id": "e9ce2f9e",
   "metadata": {},
   "outputs": [],
   "source": [
    "# points_scale\n",
    "soup.select('ul.infolist li')[5].select('div')[1].text"
   ]
  },
  {
   "cell_type": "code",
   "execution_count": null,
   "id": "50a88a38",
   "metadata": {},
   "outputs": [],
   "source": [
    "# uci_scale\n",
    "soup.select('ul.infolist li')[6].select('div')[1].text"
   ]
  },
  {
   "cell_type": "code",
   "execution_count": null,
   "id": "28da2d9b",
   "metadata": {},
   "outputs": [],
   "source": [
    "# profile score\n",
    "float(soup.select('ul.infolist li')[8].select('div')[1].text)"
   ]
  },
  {
   "cell_type": "code",
   "execution_count": null,
   "id": "b7001a72",
   "metadata": {},
   "outputs": [],
   "source": [
    "# vertical meters\n",
    "float(soup.select('ul.infolist li')[9].select('div')[1].text)"
   ]
  },
  {
   "cell_type": "code",
   "execution_count": null,
   "id": "4e0cfcf6",
   "metadata": {},
   "outputs": [],
   "source": [
    "# startlist_quality\n",
    "float(soup.select('ul.infolist li')[13].select('div')[1].text)"
   ]
  },
  {
   "cell_type": "code",
   "execution_count": null,
   "id": "0bd76fd7",
   "metadata": {
    "scrolled": true
   },
   "outputs": [],
   "source": [
    "# title\n",
    "soup.select('title')[0].text[:-8]"
   ]
  },
  {
   "cell_type": "markdown",
   "id": "ff1a9d10",
   "metadata": {},
   "source": [
    "## Startlists\n",
    "\n",
    "The cells below are the actions used to select the different variables in the `get_startlist()`-method. The cell directly below simply performs the necessary setup for the individual cells to run. This is done more elegantly under the hood of `PcsScraper`."
   ]
  },
  {
   "cell_type": "code",
   "execution_count": null,
   "id": "1601d7a9",
   "metadata": {},
   "outputs": [],
   "source": [
    "url = 'https://www.procyclingstats.com/race/tour-of-rwanda/2024/startlist'\n",
    "response = requests.get(url)\n",
    "startlist_soup = BeautifulSoup(response.text, \"lxml\")\n",
    "soup = startlist_soup.find_all(class_=\"ridersCont\")\n",
    "\n",
    "url = 'https://www.procyclingstats.com/race/tour-of-rwanda/2024/stage-1'\n",
    "response = requests.get(url)\n",
    "stage_soup = BeautifulSoup(response.text, \"lxml\")"
   ]
  },
  {
   "cell_type": "code",
   "execution_count": null,
   "id": "2bdb2c8a",
   "metadata": {
    "scrolled": true
   },
   "outputs": [],
   "source": [
    "# startlist_old\n",
    "[r.find(\"a\")['href'][6::] for i in soup for r in i.find_all(\"li\")]"
   ]
  },
  {
   "cell_type": "code",
   "execution_count": null,
   "id": "b9d34699",
   "metadata": {
    "scrolled": true
   },
   "outputs": [],
   "source": [
    "# startlist_new\n",
    "[r.find(\"a\").text for i in soup for r in i.find_all(\"li\")]"
   ]
  },
  {
   "cell_type": "code",
   "execution_count": null,
   "id": "80254e59",
   "metadata": {},
   "outputs": [],
   "source": [
    "# parcours\n",
    "stage_soup.select('ul.infolist li')[7].select('span')[0]['class'][2]"
   ]
  },
  {
   "cell_type": "code",
   "execution_count": null,
   "id": "be20f73c",
   "metadata": {},
   "outputs": [],
   "source": [
    "# date\n",
    "stage_soup.select('ul.infolist li')[0].select('div')[1].text"
   ]
  },
  {
   "cell_type": "code",
   "execution_count": null,
   "id": "a7515362",
   "metadata": {},
   "outputs": [],
   "source": [
    "# distance\n",
    "float(stage_soup.select('ul.infolist li')[4].select('div')[1].text[:-3])"
   ]
  },
  {
   "cell_type": "code",
   "execution_count": null,
   "id": "234341d2",
   "metadata": {},
   "outputs": [],
   "source": [
    "# points_scale\n",
    "stage_soup.select('ul.infolist li')[5].select('div')[1].text"
   ]
  },
  {
   "cell_type": "code",
   "execution_count": null,
   "id": "4081a7f8",
   "metadata": {},
   "outputs": [],
   "source": [
    "# uci_scale\n",
    "stage_soup.select('ul.infolist li')[6].select('div')[1].text"
   ]
  },
  {
   "cell_type": "code",
   "execution_count": null,
   "id": "5ee37580",
   "metadata": {},
   "outputs": [],
   "source": [
    "# profile_score\n",
    "float(stage_soup.select('ul.infolist li')[8].select('div')[1].text)"
   ]
  },
  {
   "cell_type": "code",
   "execution_count": null,
   "id": "b34a4699",
   "metadata": {},
   "outputs": [],
   "source": [
    "# vertical_meters\n",
    "float(stage_soup.select('ul.infolist li')[9].select('div')[1].text)"
   ]
  },
  {
   "cell_type": "code",
   "execution_count": null,
   "id": "93ae0f21",
   "metadata": {},
   "outputs": [],
   "source": [
    "# startlist_quality\n",
    "float(stage_soup.select('ul.infolist li')[13].select('div')[1].text)"
   ]
  }
 ],
 "metadata": {
  "kernelspec": {
   "display_name": "Python 3 (ipykernel)",
   "language": "python",
   "name": "python3"
  },
  "language_info": {
   "codemirror_mode": {
    "name": "ipython",
    "version": 3
   },
   "file_extension": ".py",
   "mimetype": "text/x-python",
   "name": "python",
   "nbconvert_exporter": "python",
   "pygments_lexer": "ipython3",
   "version": "3.8.18"
  }
 },
 "nbformat": 4,
 "nbformat_minor": 5
}
